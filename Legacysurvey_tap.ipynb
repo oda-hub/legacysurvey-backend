{
 "cells": [
  {
   "cell_type": "code",
   "execution_count": null,
   "metadata": {
    "tags": [
     "parameters"
    ]
   },
   "outputs": [],
   "source": [
    "# name_input = \"PKS 1156+295\"\n",
    "# name_input = \"Mrk 421\"\n",
    "# name_input = \"Crab\"\n",
    "# name_input = \"PKS 2155-304\"\n",
    "# name_input = \"QSO B0229+200\"\n",
    "# name_input = 'NGC 1068'\n",
    "name_input = \"\"\n",
    "ra_s = 166.113808  # ra in degree\n",
    "dec_s = 38.208833 # dec in degree\n",
    "image_size = 3. # in arcmin (integrate flux of all sources within this radius)\n",
    "radius_photometry = 1. # in arcsec\n",
    "dr=9 # data release\n",
    "image_band='g' #\n",
    "pixsize=1. # arcsec per pixel"
   ]
  },
  {
   "cell_type": "code",
   "execution_count": null,
   "metadata": {},
   "outputs": [],
   "source": [
    "from astropy.io import ascii\n",
    "import numpy as np\n",
    "from numpy import pi, cos,sin\n",
    "import os\n",
    "\n",
    "# astroquery API that will be traced by Renku plugin\n",
    "from astroquery.ned import Ned\n",
    "from astroquery.simbad import Simbad \n",
    "Simbad.add_votable_fields('otype')\n",
    "\n",
    "\n",
    "# Conventional astronomical tools, also to be traced by Renku plugin, there is domain-specific ontology built in\n",
    "from astropy.wcs import WCS\n",
    "import pyvo as vo\n",
    "from astropy.io import fits\n",
    "from astropy.coordinates import SkyCoord  # High-level coordinates\n",
    "from astropy.coordinates import Angle, Latitude, Longitude  # Angles\n",
    "import astropy.units as u\n",
    "from astropy.constants import hbar\n",
    "from astropy.time import Time\n",
    "\n",
    "# conventional python routines\n",
    "import matplotlib.pyplot as plt\n",
    "from matplotlib.colors import LogNorm\n",
    "%matplotlib inline\n",
    "from matplotlib.colors import LogNorm\n",
    "\n",
    "nano_maggies_to_Jy = 3.631e-6 # constant of conversion\n",
    "if not(os.path.isdir('figs')):\n",
    "    os.makedirs('figs')\n",
    "if not(os.path.isdir('data')):\n",
    "    os.makedirs('data')\n",
    "\n",
    "from astropy.table import Table\n",
    "import hashlib\n",
    "import base64\n",
    "from astroquery.desi import DESILegacySurvey"
   ]
  },
  {
   "cell_type": "code",
   "execution_count": null,
   "metadata": {},
   "outputs": [],
   "source": [
    "radius_photometry = Angle(radius_photometry * u.arcsec)\n",
    "image_size = Angle(image_size * u.arcmin)\n",
    "pixsize = Angle(pixsize * u.arcsec)"
   ]
  },
  {
   "cell_type": "code",
   "execution_count": null,
   "metadata": {},
   "outputs": [],
   "source": [
    "if name_input == \"\":\n",
    "    source = SkyCoord(ra_s,dec_s,unit='degree')\n",
    "    result_simbad=Simbad.query_region(source, radius=radius_photometry)\n",
    "    ra_simbad=result_simbad['RA'].data[0]\n",
    "    dec_simbad=result_simbad['DEC'].data[0]\n",
    "    name_simbad=result_simbad['MAIN_ID'].data[0]\n",
    "    otype_simbad = result_simbad['OTYPE'].data[0]\n",
    "\n",
    "    print('\"'+ra_simbad+' '+dec_simbad+'\"',name_simbad)\n",
    "    coord_simbad=SkyCoord(ra_simbad+' '+dec_simbad, unit=(u.hour, u.deg))\n",
    "    sep=source.separation(coord_simbad).arcsec\n",
    "    if(sep<=radius_photometry.arcsec):\n",
    "        name_input=name_simbad\n",
    "    names=Simbad.query_objectids(name_input)\n",
    "else:\n",
    "    result_simbad = Simbad.query_object(name_input, wildcard=True)\n",
    "    names=Simbad.query_objectids(name_input)\n",
    "    ra_simbad = result_simbad['RA'].data[0] # here it is a string!\n",
    "    dec_simbad = result_simbad['DEC'].data[0]\n",
    "    otype_simbad = result_simbad['OTYPE'].data[0]\n",
    "    name_simbad=result_simbad['MAIN_ID'].data[0]\n",
    "    ra_s=Angle(ra_simbad,unit='hourangle').degree\n",
    "    dec_s=Angle(dec_simbad,unit='deg').degree\n",
    "\n",
    "npix=int(2*image_size/pixsize)\n",
    "print(name_input, otype_simbad)\n",
    "source = SkyCoord(ra_s,dec_s,unit='degree')\n",
    "print(source)"
   ]
  },
  {
   "cell_type": "code",
   "execution_count": null,
   "metadata": {},
   "outputs": [],
   "source": [
    "query=DESILegacySurvey.get_images(coordinates='icrs', radius=image_size, pixels=npix, survey='dr%d'%dr, position=source)\n",
    "hdul = query[0]\n",
    "hdul[0].header"
   ]
  },
  {
   "cell_type": "code",
   "execution_count": null,
   "metadata": {},
   "outputs": [],
   "source": [
    "paramstring='ra='+str(ra_s)+'&dec='+str(dec_s)+'&size='+str(npix)+'&layer=ls-dr'+str(dr)+'&pixscale='+str(pixsize)+'&bands='+image_band\n",
    "suffix = hashlib.md5(paramstring.encode()).hexdigest()\n",
    "filename='data/image_legacysurvey_%s.fits'%( suffix )\n",
    "\n",
    "if os.path.exists(filename):\n",
    "        os.remove(filename)\n",
    "hdul.writeto(filename)"
   ]
  },
  {
   "cell_type": "code",
   "execution_count": null,
   "metadata": {},
   "outputs": [],
   "source": [
    "hdu = hdul[0]\n",
    "image=hdu.data\n",
    "wcs=WCS(hdu.header)\n",
    "w = WCS(hdu.header)\n",
    "sky = w.pixel_to_world(0, 0)\n",
    "ra_max_image=sky.ra.degree\n",
    "dec_min_image=sky.dec.degree\n",
    "sky = w.pixel_to_world(npix-1, npix-1)\n",
    "ra_min_image=sky.ra.degree\n",
    "dec_max_image=sky.dec.degree"
   ]
  },
  {
   "cell_type": "code",
   "execution_count": null,
   "metadata": {},
   "outputs": [],
   "source": [
    "query = DESILegacySurvey.query_region(coordinates=source, radius=image_size, data_release=dr)\n",
    "\n",
    "tap_result = query\n",
    "ra=tap_result['ra']\n",
    "dec=tap_result['dec']\n",
    "t=tap_result['type']\n",
    "nsources=len(tap_result)\n",
    "coord = SkyCoord(ra=ra, dec=dec, unit='deg',frame='icrs')\n",
    "sep=source.separation(coord)\n",
    "indexes=[]\n",
    "for i in range(nsources):\n",
    "    if(t[i]=='DUP'):\n",
    "        sep[i]=100. * u.deg\n",
    "        # TODO: this is just to ignore it from table, rather just delete from it\n",
    "    if(sep[i]< radius_photometry): # FIXME: parameter here (or maybe not)\n",
    "        indexes.append(i)\n",
    "minsep=np.min(sep)\n",
    "index=np.argmin(sep)\n",
    "print('found LegacySurvey source number',indexes,'at separation',sep[indexes],'arcsec')\n",
    "print(minsep,index)\n",
    "ra_min=min(ra)\n",
    "dec_min=min(dec)\n",
    "ra_max=max(ra)\n",
    "dec_max=max(dec)\n",
    "print(min(ra),max(ra),min(dec),max(dec))\n",
    "print(ra_min_image,ra_max_image,dec_min_image,dec_max_image)\n",
    "\n",
    "tap_result.write('data/catalog_legacysurvey_%s.ecsv'%suffix, overwrite=True)"
   ]
  },
  {
   "cell_type": "code",
   "execution_count": null,
   "metadata": {},
   "outputs": [],
   "source": [
    "plt.figure(figsize=(17,13))\n",
    "im=plt.imshow(image, norm=LogNorm(vmax=np.max(image),vmin=np.max(image)/1e3), origin='lower',extent=(ra_max_image,ra_min_image,dec_min_image,dec_max_image))\n",
    "plt.grid(color='black', ls='solid')\n",
    "plt.scatter(ra,dec,color='red',alpha=0.9)\n",
    "plt.scatter([ra_s],[dec_s],color='blue',linewidth=4,alpha=0.3)\n",
    "\n",
    "plt.xlabel('RA',fontsize=16)\n",
    "plt.ylabel('DEC',fontsize=16)\n",
    "\n",
    "plt.tick_params(axis='both', which='major', labelsize=16)\n",
    "plt.colorbar(im)\n",
    "\n",
    "\n",
    "plt.savefig('figs/image_legacysurvey_%s_log.png'%( suffix ))"
   ]
  },
  {
   "cell_type": "code",
   "execution_count": null,
   "metadata": {},
   "outputs": [],
   "source": [
    "plt.figure(figsize=(17,13))\n",
    "im=plt.imshow(image, vmax=np.max(image),vmin=np.max(image)/1e3, origin='lower',extent=(ra_max_image,ra_min_image,dec_min_image,dec_max_image))\n",
    "plt.grid(color='black', ls='solid')\n",
    "#plt.scatter(ra,dec,color='white',alpha=0.3)\n",
    "#plt.scatter([ra_degree],[dec_degree],color='blue',linewidth=4,alpha=0.3)\n",
    "\n",
    "plt.xlabel('RA',fontsize=16)\n",
    "plt.ylabel('DEC',fontsize=16)\n",
    "\n",
    "plt.tick_params(axis='both', which='major', labelsize=16)\n",
    "plt.colorbar(im)\n",
    "\n",
    "plt.savefig('figs/image_legacysuvery_linear.png')"
   ]
  },
  {
   "cell_type": "code",
   "execution_count": null,
   "metadata": {},
   "outputs": [],
   "source": [
    "label=['g','r','z','w1','w2','w3','w4']\n",
    "wavelength=np.array([4770,6231,9134,3.368e4,4.618e4,12.082e4,22.194e4])\n",
    "wavelength=wavelength*1e-8 # in cm\n",
    "frequency=3.e10/wavelength # in Hz\n",
    "energy=2*pi*hbar.to('eV s')/u.eV/u.s*frequency # in eV\n",
    "factor=1e-23*frequency # conversion of Jy to erg/cm2s\n",
    "flux=np.zeros(len(label))\n",
    "err=np.zeros(len(label))\n",
    "for i in range(len(label)):\n",
    "    for j in range(len(indexes)):\n",
    "        if (tap_result['flux_ivar_'+label[i]][indexes[j]]>0):\n",
    "            flux[i]+=tap_result['flux_'+label[i]][indexes[j]]\n",
    "            err[i]+=1 / tap_result['flux_ivar_'+label[i]][indexes[j]]\n",
    "\n",
    "    flux[i]=flux[i]/tap_result['mw_transmission_'+label[i]][index]*nano_maggies_to_Jy*factor[i]\n",
    "    err[i]=np.sqrt(err[i])/tap_result['mw_transmission_'+label[i]][index]*nano_maggies_to_Jy*factor[i]\n",
    "    print(energy[i],flux[i],err[i])\n",
    "\n",
    "data = Table()\n",
    "data['E'] = energy*u.eV\n",
    "data['nuFnu'] = flux*u.erg/u.cm**2/u.s\n",
    "data['nuFnu_err'] = err*u.erg/u.cm**2/u.s\n",
    "data.write('data/spectrum_legacysurvey_%s.ecsv'%suffix, overwrite=True)\n",
    "data.info()"
   ]
  },
  {
   "cell_type": "code",
   "execution_count": null,
   "metadata": {},
   "outputs": [],
   "source": [
    "plt.figure(figsize=(10,7))\n",
    "plt.errorbar(energy, flux,err, fmt='o-', color='red', linewidth=1)\n",
    "\n",
    "plt.xlabel('$E$, [eV]',fontsize=16)\n",
    "plt.ylabel('$E^2dN/dE$, [erg/(cm$^2$s)]',fontsize=16)\n",
    "plt.xscale('log')\n",
    "plt.yscale('log')\n",
    "plt.tick_params(axis='both', which='major', labelsize=16)\n",
    "plt.savefig(\"figs/figure_spectrum_legacysurvey_%s.png\"%suffix)\n"
   ]
  },
  {
   "cell_type": "code",
   "execution_count": null,
   "metadata": {},
   "outputs": [],
   "source": [
    "#here we prepare output. Images will not be forwarded in production, but now as it is\n",
    "with open('data/catalog_legacysurvey_%s.ecsv'%suffix, 'r') as catfd, \\\n",
    "     open('data/spectrum_legacysurvey_%s.ecsv'%suffix, 'r') as specfd, \\\n",
    "     fits.open('data/image_legacysurvey_%s.fits'%suffix, 'readonly') as imfitsfd:\n",
    "    catalog = catfd.read()\n",
    "    spec = specfd.read()\n",
    "    imfits_head = {k: v for k, v in imfitsfd[0].header.items()}\n",
    "    imfits_data = imfitsfd[0].data"
   ]
  },
  {
   "cell_type": "code",
   "execution_count": null,
   "metadata": {
    "tags": [
     "outputs"
    ]
   },
   "outputs": [],
   "source": [
    "catalog = catalog\n",
    "spec = spec\n",
    "imfits_head = imfits_head\n",
    "imfits_data = imfits_data"
   ]
  }
 ],
 "metadata": {
  "interpreter": {
   "hash": "e401f55e2cf9400278c80bb08228b83c18dd33071c29b72174f3d7ec68be488d"
  },
  "kernelspec": {
   "display_name": "test-legacysurvey",
   "language": "python",
   "name": "python3"
  },
  "language_info": {
   "codemirror_mode": {
    "name": "ipython",
    "version": 3
   },
   "file_extension": ".py",
   "mimetype": "text/x-python",
   "name": "python",
   "nbconvert_exporter": "python",
   "pygments_lexer": "ipython3",
   "version": "3.8.10"
  }
 },
 "nbformat": 4,
 "nbformat_minor": 4
}
