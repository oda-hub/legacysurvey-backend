{
 "cells": [
  {
   "cell_type": "code",
   "execution_count": 1,
   "metadata": {
    "tags": [
     "parameters"
    ]
   },
   "outputs": [],
   "source": [
    "ra_s = 166.113808  # ra in degree\n",
    "dec_s = 38.208833 # dec in degree\n",
    "image_size = 3. # in arcmin (integrate flux of all sources within this radius)\n",
    "radius_photometry = 1. # in arcsec\n",
    "dr=9 # data release\n",
    "image_band='g' #\n",
    "pixsize=1. # arcsec per pixel"
   ]
  },
  {
   "cell_type": "code",
   "execution_count": 2,
   "metadata": {},
   "outputs": [],
   "source": [
    "import numpy as np\n",
    "from numpy import pi\n",
    "import os\n",
    "\n",
    "# Conventional astronomical tools, also to be traced by Renku plugin, there is domain-specific ontology built in\n",
    "from astropy.wcs import WCS\n",
    "from astropy.io import fits\n",
    "from astropy.coordinates import SkyCoord  # High-level coordinates\n",
    "from astropy.coordinates import Angle\n",
    "import astropy.units as u\n",
    "from astropy.constants import hbar\n",
    "\n",
    "nano_maggies_to_Jy = 3.631e-6 # constant of conversion\n",
    "if not(os.path.isdir('figs')):\n",
    "    os.makedirs('figs')\n",
    "if not(os.path.isdir('data')):\n",
    "    os.makedirs('data')\n",
    "\n",
    "from astropy.table import Table\n",
    "import hashlib\n",
    "from astroquery.desi import DESILegacySurvey"
   ]
  },
  {
   "cell_type": "code",
   "execution_count": 3,
   "metadata": {},
   "outputs": [],
   "source": [
    "radius_photometry = Angle(radius_photometry * u.arcsec)\n",
    "image_size = Angle(image_size * u.arcmin)\n",
    "pixsize = Angle(pixsize * u.arcsec)\n",
    "npix=int(2*image_size/pixsize)\n",
    "source = SkyCoord(ra_s,dec_s,unit='degree')"
   ]
  },
  {
   "cell_type": "code",
   "execution_count": 4,
   "metadata": {},
   "outputs": [
    {
     "name": "stdout",
     "output_type": "stream",
     "text": [
      "image_url:  https://www.legacysurvey.org/viewer/fits-cutout?ra=166.113808&dec=38.208833&size=360&layer=ls-dr9&pixscale=1.0&bands=g\n"
     ]
    },
    {
     "data": {
      "text/plain": [
       "SIMPLE  =                    T / file does conform to FITS standard             \n",
       "BITPIX  =                  -32 / number of bits per data pixel                  \n",
       "NAXIS   =                    2 / number of data axes                            \n",
       "NAXIS1  =                  360 / length of data axis 1                          \n",
       "NAXIS2  =                  360 / length of data axis 2                          \n",
       "EXTEND  =                    T / FITS dataset may contain extensions            \n",
       "COMMENT   FITS (Flexible Image Transport System) format is defined in 'Astronomy\n",
       "COMMENT   and Astrophysics', volume 376, page 359; bibcode: 2001A&A...376..359H \n",
       "BANDS   = 'g       '                                                            \n",
       "BAND0   = 'g       '                                                            \n",
       "CTYPE1  = 'RA---TAN'           / TANgent plane                                  \n",
       "CTYPE2  = 'DEC--TAN'           / TANgent plane                                  \n",
       "CRVAL1  =           166.113808 / Reference RA                                   \n",
       "CRVAL2  =            38.208833 / Reference Dec                                  \n",
       "CRPIX1  =                180.5 / Reference x                                    \n",
       "CRPIX2  =                180.5 / Reference y                                    \n",
       "CD1_1   = -0.000277777777777778 / CD matrix                                     \n",
       "CD1_2   =                   0. / CD matrix                                      \n",
       "CD2_1   =                   0. / CD matrix                                      \n",
       "CD2_2   = 0.000277777777777778 / CD matrix                                      \n",
       "IMAGEW  =                 360. / Image width                                    \n",
       "IMAGEH  =                 360. / Image height                                   "
      ]
     },
     "execution_count": 4,
     "metadata": {},
     "output_type": "execute_result"
    }
   ],
   "source": [
    "query=DESILegacySurvey.get_images(coordinates='icrs', radius=image_size, pixels=npix, survey='dr%d'%dr, position=source)\n",
    "hdul = query[0]\n",
    "hdul[0].header"
   ]
  },
  {
   "cell_type": "code",
   "execution_count": 5,
   "metadata": {},
   "outputs": [],
   "source": [
    "paramstring='ra='+str(ra_s)+'&dec='+str(dec_s)+'&size='+str(npix)+'&layer=ls-dr'+str(dr)+'&pixscale='+str(pixsize)+'&bands='+image_band\n",
    "suffix = hashlib.md5(paramstring.encode()).hexdigest()\n",
    "filename='data/image_legacysurvey_%s.fits'%( suffix )\n",
    "\n",
    "if os.path.exists(filename):\n",
    "        os.remove(filename)\n",
    "hdul.writeto(filename)"
   ]
  },
  {
   "cell_type": "code",
   "execution_count": 6,
   "metadata": {},
   "outputs": [],
   "source": [
    "hdu = hdul[0]\n",
    "image=hdu.data\n",
    "wcs=WCS(hdu.header)\n",
    "w = WCS(hdu.header)\n",
    "sky = w.pixel_to_world(0, 0)\n",
    "ra_max_image=sky.ra.degree\n",
    "dec_min_image=sky.dec.degree\n",
    "sky = w.pixel_to_world(npix-1, npix-1)\n",
    "ra_min_image=sky.ra.degree\n",
    "dec_max_image=sky.dec.degree"
   ]
  },
  {
   "cell_type": "code",
   "execution_count": 7,
   "metadata": {},
   "outputs": [
    {
     "name": "stdout",
     "output_type": "stream",
     "text": [
      "found LegacySurvey source number [302] at separation [0d00m00.08183811s] arcsec\n",
      "0d00m00.08183811s 302\n",
      "166.05017663959927 166.17706337477026 38.15890988931406 38.258697231549064\n",
      "166.050308748095 166.1772203138659 38.158954853903886 38.258676989793564\n"
     ]
    }
   ],
   "source": [
    "query = DESILegacySurvey.query_region(coordinates=source, radius=image_size, data_release=dr)\n",
    "\n",
    "tap_result = query\n",
    "ra=tap_result['ra']\n",
    "dec=tap_result['dec']\n",
    "t=tap_result['type']\n",
    "nsources=len(tap_result)\n",
    "coord = SkyCoord(ra=ra, dec=dec, unit='deg',frame='icrs')\n",
    "sep=source.separation(coord)\n",
    "indexes=[]\n",
    "for i in range(nsources):\n",
    "    if(t[i]=='DUP'):\n",
    "        sep[i]=100. * u.deg\n",
    "        # TODO: this is just to ignore it from table, rather just delete from it\n",
    "    if(sep[i]< radius_photometry): # FIXME: parameter here (or maybe not)\n",
    "        indexes.append(i)\n",
    "minsep=np.min(sep)\n",
    "index=np.argmin(sep)\n",
    "print('found LegacySurvey source number',indexes,'at separation',sep[indexes],'arcsec')\n",
    "print(minsep,index)\n",
    "ra_min=min(ra)\n",
    "dec_min=min(dec)\n",
    "ra_max=max(ra)\n",
    "dec_max=max(dec)\n",
    "print(min(ra),max(ra),min(dec),max(dec))\n",
    "print(ra_min_image,ra_max_image,dec_min_image,dec_max_image)\n",
    "\n",
    "tap_result.write('data/catalog_legacysurvey_%s.ecsv'%suffix, overwrite=True)"
   ]
  },
  {
   "cell_type": "code",
   "execution_count": 8,
   "metadata": {},
   "outputs": [
    {
     "name": "stdout",
     "output_type": "stream",
     "text": [
      "2.6010488659898483 8.121009284709404e-11 4.2498343810795666e-14\n",
      "1.9911736624573224 1.2224406124990915e-10 5.911111791087553e-14\n",
      "1.3583318470299512 1.2110371815123045e-10 3.09828401848189e-14\n",
      "0.36837895162623446 4.2035761760794405e-11 2.1138603946206e-14\n",
      "0.268666156144902 2.7025956568311665e-11 2.408139670746677e-14\n",
      "0.10268997757632492 2.6660426935817343e-11 6.442100085443842e-14\n",
      "0.0559025100962944 1.88067576422018e-11 2.454355722750842e-13\n",
      "<Table length=7>\n",
      "   name    dtype       unit    \n",
      "--------- ------- -------------\n",
      "        E float64            eV\n",
      "    nuFnu float64 erg / (cm2 s)\n",
      "nuFnu_err float64 erg / (cm2 s)\n"
     ]
    }
   ],
   "source": [
    "label=['g','r','z','w1','w2','w3','w4']\n",
    "wavelength=np.array([4770,6231,9134,3.368e4,4.618e4,12.082e4,22.194e4])\n",
    "wavelength=wavelength*1e-8 # in cm\n",
    "frequency=3.e10/wavelength # in Hz\n",
    "energy=2*pi*hbar.to('eV s')/u.eV/u.s*frequency # in eV\n",
    "factor=1e-23*frequency # conversion of Jy to erg/cm2s\n",
    "flux=np.zeros(len(label))\n",
    "err=np.zeros(len(label))\n",
    "for i in range(len(label)):\n",
    "    for j in range(len(indexes)):\n",
    "        if (tap_result['flux_ivar_'+label[i]][indexes[j]]>0):\n",
    "            flux[i]+=tap_result['flux_'+label[i]][indexes[j]]\n",
    "            err[i]+=1 / tap_result['flux_ivar_'+label[i]][indexes[j]]\n",
    "\n",
    "    flux[i]=flux[i]/tap_result['mw_transmission_'+label[i]][index]*nano_maggies_to_Jy*factor[i]\n",
    "    err[i]=np.sqrt(err[i])/tap_result['mw_transmission_'+label[i]][index]*nano_maggies_to_Jy*factor[i]\n",
    "    print(energy[i],flux[i],err[i])\n",
    "\n",
    "data = Table()\n",
    "data['E'] = energy*u.eV\n",
    "data['nuFnu'] = flux*u.erg/u.cm**2/u.s\n",
    "data['nuFnu_err'] = err*u.erg/u.cm**2/u.s\n",
    "data.write('data/spectrum_legacysurvey_%s.ecsv'%suffix, overwrite=True)\n",
    "data.info()"
   ]
  },
  {
   "cell_type": "code",
   "execution_count": 9,
   "metadata": {},
   "outputs": [],
   "source": [
    "#here we prepare output. Images will not be forwarded in production, but now as it is\n",
    "with open('data/catalog_legacysurvey_%s.ecsv'%suffix, 'r') as catfd, \\\n",
    "     open('data/spectrum_legacysurvey_%s.ecsv'%suffix, 'r') as specfd, \\\n",
    "     fits.open('data/image_legacysurvey_%s.fits'%suffix, 'readonly') as imfitsfd:\n",
    "    catalog = catfd.read()\n",
    "    spec = specfd.read()\n",
    "    imfits_head = {k: v for k, v in imfitsfd[0].header.items()}\n",
    "    imfits_data = imfitsfd[0].data"
   ]
  },
  {
   "cell_type": "code",
   "execution_count": 10,
   "metadata": {
    "tags": [
     "outputs"
    ]
   },
   "outputs": [],
   "source": [
    "catalog = catalog\n",
    "spec = spec\n",
    "imfits_head = imfits_head\n",
    "imfits_data = imfits_data"
   ]
  }
 ],
 "metadata": {
  "interpreter": {
   "hash": "e401f55e2cf9400278c80bb08228b83c18dd33071c29b72174f3d7ec68be488d"
  },
  "kernelspec": {
   "display_name": "test-legacysurvey",
   "language": "python",
   "name": "python3"
  },
  "language_info": {
   "codemirror_mode": {
    "name": "ipython",
    "version": 3
   },
   "file_extension": ".py",
   "mimetype": "text/x-python",
   "name": "python",
   "nbconvert_exporter": "python",
   "pygments_lexer": "ipython3",
   "version": "3.9.9"
  }
 },
 "nbformat": 4,
 "nbformat_minor": 4
}
